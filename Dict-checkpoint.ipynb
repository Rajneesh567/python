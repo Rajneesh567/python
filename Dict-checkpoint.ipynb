{
 "cells": [
  {
   "cell_type": "code",
   "execution_count": null,
   "id": "a6793492",
   "metadata": {},
   "outputs": [],
   "source": [
    "dict:\n",
    "    it is collection of item\n",
    "    it is mutable type DS\n",
    "    it is unorderd type\n",
    "    {}     "
   ]
  },
  {
   "cell_type": "code",
   "execution_count": null,
   "id": "334d9f34",
   "metadata": {},
   "outputs": [],
   "source": [
    "item ---> key:value"
   ]
  },
  {
   "cell_type": "code",
   "execution_count": 1,
   "id": "b7b83355",
   "metadata": {},
   "outputs": [],
   "source": [
    "py_dict = {'name':'Python','Age':33,'Author':'Guido van Rossum'}"
   ]
  },
  {
   "cell_type": "code",
   "execution_count": 2,
   "id": "2bbbfa6a",
   "metadata": {},
   "outputs": [
    {
     "data": {
      "text/plain": [
       "{'name': 'Python', 'Age': 33, 'Author': 'Guido van Rossum'}"
      ]
     },
     "execution_count": 2,
     "metadata": {},
     "output_type": "execute_result"
    }
   ],
   "source": [
    "py_dict"
   ]
  },
  {
   "cell_type": "markdown",
   "id": "04aa6973",
   "metadata": {},
   "source": [
    "### keys :\n",
    "    name\n",
    "    Age\n",
    "    Author\n",
    "### values : \n",
    "    Python\n",
    "    33\n",
    "    Guido van Russom"
   ]
  },
  {
   "cell_type": "code",
   "execution_count": null,
   "id": "bed1a1f1",
   "metadata": {},
   "outputs": [],
   "source": [
    "keys:\n",
    "    keys always immutable\n",
    "    str,int,tuple,frozenset\n",
    "    key never duplicate\n",
    "values:\n",
    "    can be mutable or immutable\n",
    "    str,list,tuple,set,dict,frozenset\n",
    "    can be duplicate"
   ]
  },
  {
   "cell_type": "code",
   "execution_count": 4,
   "id": "2b66e129",
   "metadata": {},
   "outputs": [
    {
     "data": {
      "text/plain": [
       "{'name': 'Python', 'Age': 33, 'Author': 'Guido van Rossum'}"
      ]
     },
     "execution_count": 4,
     "metadata": {},
     "output_type": "execute_result"
    }
   ],
   "source": [
    "py_dict"
   ]
  },
  {
   "cell_type": "code",
   "execution_count": 7,
   "id": "4bc86384",
   "metadata": {},
   "outputs": [
    {
     "ename": "TypeError",
     "evalue": "unhashable type: 'list'",
     "output_type": "error",
     "traceback": [
      "\u001b[1;31m---------------------------------------------------------------------------\u001b[0m",
      "\u001b[1;31mTypeError\u001b[0m                                 Traceback (most recent call last)",
      "\u001b[1;32m<ipython-input-7-2c2b99942abf>\u001b[0m in \u001b[0;36m<module>\u001b[1;34m\u001b[0m\n\u001b[1;32m----> 1\u001b[1;33m emp = {\n\u001b[0m\u001b[0;32m      2\u001b[0m     \u001b[1;33m[\u001b[0m\u001b[1;34m'name'\u001b[0m\u001b[1;33m]\u001b[0m\u001b[1;33m:\u001b[0m\u001b[1;34m'Arun'\u001b[0m\u001b[1;33m,\u001b[0m\u001b[1;33m\u001b[0m\u001b[1;33m\u001b[0m\u001b[0m\n\u001b[0;32m      3\u001b[0m     \u001b[1;34m'sal'\u001b[0m\u001b[1;33m:\u001b[0m\u001b[1;36m95000\u001b[0m\u001b[1;33m,\u001b[0m\u001b[1;33m\u001b[0m\u001b[1;33m\u001b[0m\u001b[0m\n\u001b[0;32m      4\u001b[0m     \u001b[1;34m'city'\u001b[0m\u001b[1;33m:\u001b[0m\u001b[1;34m'pune'\u001b[0m\u001b[1;33m,\u001b[0m\u001b[1;33m\u001b[0m\u001b[1;33m\u001b[0m\u001b[0m\n\u001b[0;32m      5\u001b[0m     \u001b[1;34m'dept'\u001b[0m\u001b[1;33m:\u001b[0m\u001b[1;34m'HR'\u001b[0m\u001b[1;33m\u001b[0m\u001b[1;33m\u001b[0m\u001b[0m\n",
      "\u001b[1;31mTypeError\u001b[0m: unhashable type: 'list'"
     ]
    }
   ],
   "source": [
    "emp = {\n",
    "    ['name']:'Arun',\n",
    "    'sal':95000,\n",
    "    'city':'pune',\n",
    "    'dept':'HR'\n",
    "}"
   ]
  },
  {
   "cell_type": "code",
   "execution_count": 6,
   "id": "b93e0ef6",
   "metadata": {},
   "outputs": [
    {
     "data": {
      "text/plain": [
       "{'name': 'Arun', 'sal': 95000, 'city': 'pune', 'dept': 'HR'}"
      ]
     },
     "execution_count": 6,
     "metadata": {},
     "output_type": "execute_result"
    }
   ],
   "source": [
    "emp"
   ]
  },
  {
   "cell_type": "code",
   "execution_count": 8,
   "id": "5f8fc005",
   "metadata": {},
   "outputs": [],
   "source": [
    "emp_dict = {\n",
    "    'name':['Arun','Jon','Jusin'],\n",
    "    'age':[22,34,45],\n",
    "    'city':['Pune','Mumbai','Chennai'],\n",
    "    'Sal':[45000,96660,45722]\n",
    "}"
   ]
  },
  {
   "cell_type": "code",
   "execution_count": 9,
   "id": "9a22c460",
   "metadata": {},
   "outputs": [
    {
     "data": {
      "text/plain": [
       "{'name': ['Arun', 'Jon', 'Jusin'],\n",
       " 'age': [22, 34, 45],\n",
       " 'city': ['Pune', 'Mumbai', 'Chennai'],\n",
       " 'Sal': [45000, 96660, 45722]}"
      ]
     },
     "execution_count": 9,
     "metadata": {},
     "output_type": "execute_result"
    }
   ],
   "source": [
    "emp_dict"
   ]
  },
  {
   "cell_type": "code",
   "execution_count": 10,
   "id": "ea288201",
   "metadata": {},
   "outputs": [],
   "source": [
    "import pandas as pd"
   ]
  },
  {
   "cell_type": "code",
   "execution_count": 11,
   "id": "3c3dde86",
   "metadata": {},
   "outputs": [
    {
     "data": {
      "text/html": [
       "<div>\n",
       "<style scoped>\n",
       "    .dataframe tbody tr th:only-of-type {\n",
       "        vertical-align: middle;\n",
       "    }\n",
       "\n",
       "    .dataframe tbody tr th {\n",
       "        vertical-align: top;\n",
       "    }\n",
       "\n",
       "    .dataframe thead th {\n",
       "        text-align: right;\n",
       "    }\n",
       "</style>\n",
       "<table border=\"1\" class=\"dataframe\">\n",
       "  <thead>\n",
       "    <tr style=\"text-align: right;\">\n",
       "      <th></th>\n",
       "      <th>name</th>\n",
       "      <th>age</th>\n",
       "      <th>city</th>\n",
       "      <th>Sal</th>\n",
       "    </tr>\n",
       "  </thead>\n",
       "  <tbody>\n",
       "    <tr>\n",
       "      <th>0</th>\n",
       "      <td>Arun</td>\n",
       "      <td>22</td>\n",
       "      <td>Pune</td>\n",
       "      <td>45000</td>\n",
       "    </tr>\n",
       "    <tr>\n",
       "      <th>1</th>\n",
       "      <td>Jon</td>\n",
       "      <td>34</td>\n",
       "      <td>Mumbai</td>\n",
       "      <td>96660</td>\n",
       "    </tr>\n",
       "    <tr>\n",
       "      <th>2</th>\n",
       "      <td>Jusin</td>\n",
       "      <td>45</td>\n",
       "      <td>Chennai</td>\n",
       "      <td>45722</td>\n",
       "    </tr>\n",
       "  </tbody>\n",
       "</table>\n",
       "</div>"
      ],
      "text/plain": [
       "    name  age     city    Sal\n",
       "0   Arun   22     Pune  45000\n",
       "1    Jon   34   Mumbai  96660\n",
       "2  Jusin   45  Chennai  45722"
      ]
     },
     "execution_count": 11,
     "metadata": {},
     "output_type": "execute_result"
    }
   ],
   "source": [
    "pd.DataFrame(emp_dict)"
   ]
  },
  {
   "cell_type": "code",
   "execution_count": null,
   "id": "089209d1",
   "metadata": {},
   "outputs": [],
   "source": []
  },
  {
   "cell_type": "code",
   "execution_count": null,
   "id": "2d5886ec",
   "metadata": {},
   "outputs": [],
   "source": [
    "keys\n",
    "values"
   ]
  },
  {
   "cell_type": "code",
   "execution_count": 12,
   "id": "1154df52",
   "metadata": {},
   "outputs": [
    {
     "data": {
      "text/plain": [
       "{'name': 'Python', 'Age': 33, 'Author': 'Guido van Rossum'}"
      ]
     },
     "execution_count": 12,
     "metadata": {},
     "output_type": "execute_result"
    }
   ],
   "source": [
    "py_dict"
   ]
  },
  {
   "cell_type": "code",
   "execution_count": 13,
   "id": "9cee01b3",
   "metadata": {},
   "outputs": [
    {
     "data": {
      "text/plain": [
       "'Guido van Rossum'"
      ]
     },
     "execution_count": 13,
     "metadata": {},
     "output_type": "execute_result"
    }
   ],
   "source": [
    "py_dict['Author']"
   ]
  },
  {
   "cell_type": "code",
   "execution_count": 14,
   "id": "9cff783e",
   "metadata": {},
   "outputs": [
    {
     "data": {
      "text/plain": [
       "'Python'"
      ]
     },
     "execution_count": 14,
     "metadata": {},
     "output_type": "execute_result"
    }
   ],
   "source": [
    "py_dict['name']"
   ]
  },
  {
   "cell_type": "code",
   "execution_count": 15,
   "id": "b9f3820a",
   "metadata": {},
   "outputs": [
    {
     "data": {
      "text/plain": [
       "33"
      ]
     },
     "execution_count": 15,
     "metadata": {},
     "output_type": "execute_result"
    }
   ],
   "source": [
    "py_dict['Age']"
   ]
  },
  {
   "cell_type": "code",
   "execution_count": 16,
   "id": "e5c2d938",
   "metadata": {},
   "outputs": [
    {
     "data": {
      "text/plain": [
       "{'name': ['Arun', 'Jon', 'Jusin'],\n",
       " 'age': [22, 34, 45],\n",
       " 'city': ['Pune', 'Mumbai', 'Chennai'],\n",
       " 'Sal': [45000, 96660, 45722]}"
      ]
     },
     "execution_count": 16,
     "metadata": {},
     "output_type": "execute_result"
    }
   ],
   "source": [
    "emp_dict"
   ]
  },
  {
   "cell_type": "code",
   "execution_count": 21,
   "id": "456bbceb",
   "metadata": {},
   "outputs": [],
   "source": [
    "emp_dict['name'].insert(2,'Keshav')"
   ]
  },
  {
   "cell_type": "code",
   "execution_count": 22,
   "id": "7f74b20a",
   "metadata": {},
   "outputs": [
    {
     "data": {
      "text/plain": [
       "{'name': ['Arun', 'Jon', 'Keshav', 'Jusin'],\n",
       " 'age': [22, 34, 45],\n",
       " 'city': ['Pune', 'Mumbai', 'Chennai'],\n",
       " 'Sal': [45000, 96660, 45722]}"
      ]
     },
     "execution_count": 22,
     "metadata": {},
     "output_type": "execute_result"
    }
   ],
   "source": [
    "emp_dict"
   ]
  },
  {
   "cell_type": "code",
   "execution_count": 24,
   "id": "8efb3722",
   "metadata": {},
   "outputs": [],
   "source": [
    "tn  = {'name': 'Python', 'Age': 33 ,'Author': 'Guido van Rossum'}"
   ]
  },
  {
   "cell_type": "code",
   "execution_count": 25,
   "id": "13a5d64c",
   "metadata": {},
   "outputs": [
    {
     "data": {
      "text/plain": [
       "{'name': 'Python', 'Age': 33, 'Author': 'Guido van Rossum'}"
      ]
     },
     "execution_count": 25,
     "metadata": {},
     "output_type": "execute_result"
    }
   ],
   "source": [
    "tn"
   ]
  },
  {
   "cell_type": "code",
   "execution_count": 27,
   "id": "0d9e5b94",
   "metadata": {},
   "outputs": [],
   "source": [
    "emp_dict['name'].insert(4,200)"
   ]
  },
  {
   "cell_type": "code",
   "execution_count": 29,
   "id": "69555610",
   "metadata": {},
   "outputs": [],
   "source": [
    "emp_dict['name'].append('Hadoop')"
   ]
  },
  {
   "cell_type": "code",
   "execution_count": null,
   "id": "f051e728",
   "metadata": {},
   "outputs": [],
   "source": []
  },
  {
   "cell_type": "code",
   "execution_count": 32,
   "id": "ee2091ec",
   "metadata": {},
   "outputs": [],
   "source": [
    "p = {'a':100,'b':200,'a':500}"
   ]
  },
  {
   "cell_type": "code",
   "execution_count": 33,
   "id": "97615f23",
   "metadata": {},
   "outputs": [
    {
     "data": {
      "text/plain": [
       "{'a': 500, 'b': 200}"
      ]
     },
     "execution_count": 33,
     "metadata": {},
     "output_type": "execute_result"
    }
   ],
   "source": [
    "p"
   ]
  },
  {
   "cell_type": "code",
   "execution_count": null,
   "id": "a34e8b64",
   "metadata": {},
   "outputs": [],
   "source": []
  }
 ],
 "metadata": {
  "kernelspec": {
   "display_name": "Python 3 (ipykernel)",
   "language": "python",
   "name": "python3"
  },
  "language_info": {
   "codemirror_mode": {
    "name": "ipython",
    "version": 3
   },
   "file_extension": ".py",
   "mimetype": "text/x-python",
   "name": "python",
   "nbconvert_exporter": "python",
   "pygments_lexer": "ipython3",
   "version": "3.9.12"
  }
 },
 "nbformat": 4,
 "nbformat_minor": 5
}
